{
  "nbformat": 4,
  "nbformat_minor": 0,
  "metadata": {
    "colab": {
      "provenance": [],
      "authorship_tag": "ABX9TyOqOzfa0Gw/DU3t5uw6mnZe",
      "include_colab_link": true
    },
    "kernelspec": {
      "name": "python3",
      "display_name": "Python 3"
    },
    "language_info": {
      "name": "python"
    }
  },
  "cells": [
    {
      "cell_type": "markdown",
      "metadata": {
        "id": "view-in-github",
        "colab_type": "text"
      },
      "source": [
        "<a href=\"https://colab.research.google.com/github/RohanHanda/NLPUsingMarkovModels/blob/main/LatentSemanticAnalyser.ipynb\" target=\"_parent\"><img src=\"https://colab.research.google.com/assets/colab-badge.svg\" alt=\"Open In Colab\"/></a>"
      ]
    },
    {
      "cell_type": "code",
      "execution_count": 41,
      "metadata": {
        "id": "GUBZxzC_XW0V"
      },
      "outputs": [],
      "source": [
        "import nltk\n",
        "import matplotlib.pyplot as plt\n",
        "import numpy as np"
      ]
    },
    {
      "cell_type": "code",
      "source": [
        "nltk.download('wordnet')"
      ],
      "metadata": {
        "colab": {
          "base_uri": "https://localhost:8080/"
        },
        "id": "b5nl-Zf0ePRp",
        "outputId": "bdd45555-ff9e-4d4c-9bb4-a1dbe9e0ec52"
      },
      "execution_count": 42,
      "outputs": [
        {
          "output_type": "stream",
          "name": "stderr",
          "text": [
            "[nltk_data] Downloading package wordnet to /root/nltk_data...\n",
            "[nltk_data]   Package wordnet is already up-to-date!\n"
          ]
        },
        {
          "output_type": "execute_result",
          "data": {
            "text/plain": [
              "True"
            ]
          },
          "metadata": {},
          "execution_count": 42
        }
      ]
    },
    {
      "cell_type": "code",
      "metadata": {
        "colab": {
          "base_uri": "https://localhost:8080/"
        },
        "id": "489fb045",
        "outputId": "0366aa34-1bb5-43cd-9c28-16daef316611"
      },
      "source": [
        "\n",
        "nltk.download('punkt_tab')"
      ],
      "execution_count": 57,
      "outputs": [
        {
          "output_type": "stream",
          "name": "stderr",
          "text": [
            "[nltk_data] Downloading package punkt_tab to /root/nltk_data...\n",
            "[nltk_data]   Package punkt_tab is already up-to-date!\n"
          ]
        },
        {
          "output_type": "execute_result",
          "data": {
            "text/plain": [
              "True"
            ]
          },
          "metadata": {},
          "execution_count": 57
        }
      ]
    },
    {
      "cell_type": "code",
      "source": [
        "from nltk.stem import WordNetLemmatizer"
      ],
      "metadata": {
        "id": "KZ1jucbAX5EI"
      },
      "execution_count": 43,
      "outputs": []
    },
    {
      "cell_type": "code",
      "source": [
        "from sklearn.decomposition import TruncatedSVD"
      ],
      "metadata": {
        "id": "2La6brfiYF2Q"
      },
      "execution_count": 44,
      "outputs": []
    },
    {
      "cell_type": "code",
      "source": [
        "wordnet_lem = WordNetLemmatizer()"
      ],
      "metadata": {
        "id": "TYqPI9T0YOAe"
      },
      "execution_count": 45,
      "outputs": []
    },
    {
      "cell_type": "code",
      "source": [
        "titles = [line.rstrip() for line in open('all_book_titles.txt')]"
      ],
      "metadata": {
        "id": "M-ZbA04GYRPv"
      },
      "execution_count": 46,
      "outputs": []
    },
    {
      "cell_type": "code",
      "source": [
        "stopwords = set(w.rstrip() for w in open('stopwords.txt'))"
      ],
      "metadata": {
        "id": "vvI4LqYCYYd_"
      },
      "execution_count": 47,
      "outputs": []
    },
    {
      "cell_type": "code",
      "source": [
        "stopwords = stopwords.union({'introduction', 'edition','series','application','approach','card','access','package','plus','etext','brief','vol','fundamental','guide','essential','printed','third','second','fourth'})"
      ],
      "metadata": {
        "id": "t0o0BRkNYZN2"
      },
      "execution_count": 48,
      "outputs": []
    },
    {
      "cell_type": "code",
      "source": [
        "def my_tokensizer(s):\n",
        "  s = s.lower()\n",
        "  tokens = nltk.tokenize.word_tokenize(s)\n",
        "  tokens = [t for t in tokens if len(t) > 2]\n",
        "  tokens = [wordnet_lem.lemmatize(t) for t in tokens]\n",
        "  tokens = [t for t in tokens if t not in stopwords]\n",
        "  tokens = [t for t in tokens if not any(c.isdigit() for c in t)]\n",
        "  return tokens"
      ],
      "metadata": {
        "id": "MAKVYTEgZTZG"
      },
      "execution_count": 49,
      "outputs": []
    },
    {
      "cell_type": "code",
      "source": [
        "word_index_map = {}\n",
        "cur_index = 0\n",
        "all_tokens = []\n",
        "all_titles = []\n",
        "index_word_map = []"
      ],
      "metadata": {
        "id": "wHukxbk9ZsiO"
      },
      "execution_count": 50,
      "outputs": []
    },
    {
      "cell_type": "code",
      "source": [
        "for title in titles:\n",
        "  # try: # Removed try block for debugging\n",
        "  title = title.encode('ascii','ignore').decode('ascii')\n",
        "  all_titles.append(title)\n",
        "  tokens = my_tokensizer(title)\n",
        "  all_tokens.append(tokens)\n",
        "  for token in tokens:\n",
        "    if token not in word_index_map:\n",
        "      word_index_map[token] = cur_index\n",
        "      cur_index+=1\n",
        "      index_word_map.append(token)\n",
        "  # except: # Removed except block for debugging\n",
        "  #     pass"
      ],
      "metadata": {
        "id": "qRt5q_9GaUys"
      },
      "execution_count": 51,
      "outputs": []
    },
    {
      "cell_type": "code",
      "source": [
        "def tokens_to_vec(tokens):\n",
        "  x = np.zeros(len(word_index_map))\n",
        "  for t in tokens:\n",
        "    x[word_index_map[t]] = 1\n",
        "  return x"
      ],
      "metadata": {
        "id": "3whrwf5pbksb"
      },
      "execution_count": 52,
      "outputs": []
    },
    {
      "cell_type": "code",
      "source": [
        "N = len(all_tokens)\n",
        "D = len(word_index_map)\n",
        "X = np.zeros((D,N))\n",
        "i = 0"
      ],
      "metadata": {
        "id": "x-NBvIkwcB81"
      },
      "execution_count": 58,
      "outputs": []
    },
    {
      "cell_type": "code",
      "source": [
        "for tokens in all_tokens:\n",
        "  X[:,i] = tokens_to_vec(tokens)\n",
        "  i+=1"
      ],
      "metadata": {
        "id": "YI1rt9oMcV2i"
      },
      "execution_count": 59,
      "outputs": []
    },
    {
      "cell_type": "code",
      "source": [
        "svd = TruncatedSVD()"
      ],
      "metadata": {
        "id": "TX7NbZ66cuEi"
      },
      "execution_count": 60,
      "outputs": []
    },
    {
      "cell_type": "code",
      "source": [
        "Z = svd.fit_transform(X)"
      ],
      "metadata": {
        "id": "9dMyOcUMcuwi"
      },
      "execution_count": 61,
      "outputs": []
    },
    {
      "cell_type": "code",
      "source": [
        "plt.scatter(Z[:,0],Z[:,1])\n",
        "for i in range(D):\n",
        "  plt.annotate(text=index_word_map[i],xy=(Z[i,0],Z[i,1]))\n",
        "plt.show()"
      ],
      "metadata": {
        "colab": {
          "base_uri": "https://localhost:8080/",
          "height": 430
        },
        "id": "AoIidmHmc4n6",
        "outputId": "fc98be67-5830-42e3-b4e0-b94bc4ab28ab"
      },
      "execution_count": 63,
      "outputs": [
        {
          "output_type": "display_data",
          "data": {
            "text/plain": [
              "<Figure size 640x480 with 1 Axes>"
            ],
            "image/png": "[encoded data removed]"
          },
          "metadata": {}
        }
      ]
    },
    {
      "cell_type": "code",
      "source": [],
      "metadata": {
        "id": "b8D9g1GFfNHj"
      },
      "execution_count": null,
      "outputs": []
    }
  ]
}