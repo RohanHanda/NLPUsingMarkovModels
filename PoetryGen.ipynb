{
  "nbformat": 4,
  "nbformat_minor": 0,
  "metadata": {
    "colab": {
      "provenance": [],
      "authorship_tag": "ABX9TyPZV2SljABti6pLPGD+r3P8"
    },
    "kernelspec": {
      "name": "python3",
      "display_name": "Python 3"
    },
    "language_info": {
      "name": "python"
    }
  },
  "cells": [
    {
      "cell_type": "code",
      "execution_count": null,
      "metadata": {
        "id": "o4HOXj-y-aog"
      },
      "outputs": [],
      "source": [
        "import numpy as np\n",
        "import string"
      ]
    },
    {
      "cell_type": "code",
      "source": [
        "initial = {}\n",
        "forder = {}\n",
        "sorder = {}"
      ],
      "metadata": {
        "id": "SB8JY0tZ_-AZ"
      },
      "execution_count": null,
      "outputs": []
    },
    {
      "cell_type": "code",
      "source": [
        "def remove_punc(s):\n",
        "  return s.translate(str.maketrans('','',string.punctuation))"
      ],
      "metadata": {
        "id": "k-kBHnisAGKm"
      },
      "execution_count": null,
      "outputs": []
    },
    {
      "cell_type": "code",
      "source": [
        "!wget -nc https://raw.githubusercontent.com/lazyprogrammer/machine_learning_examples/master/hmm_class/robert_frost.txt"
      ],
      "metadata": {
        "colab": {
          "base_uri": "https://localhost:8080/"
        },
        "id": "Ck5HzKiwBVg2",
        "outputId": "3de508b7-808b-4643-a3a2-d06cadf9c86e"
      },
      "execution_count": null,
      "outputs": [
        {
          "output_type": "stream",
          "name": "stdout",
          "text": [
            "--2025-05-19 16:39:57--  https://raw.githubusercontent.com/lazyprogrammer/machine_learning_examples/master/hmm_class/robert_frost.txt\n",
            "Resolving raw.githubusercontent.com (raw.githubusercontent.com)... 185.199.108.133, 185.199.109.133, 185.199.110.133, ...\n",
            "Connecting to raw.githubusercontent.com (raw.githubusercontent.com)|185.199.108.133|:443... connected.\n",
            "HTTP request sent, awaiting response... 200 OK\n",
            "Length: 56286 (55K) [text/plain]\n",
            "Saving to: ‘robert_frost.txt’\n",
            "\n",
            "robert_frost.txt    100%[===================>]  54.97K  --.-KB/s    in 0.05s   \n",
            "\n",
            "2025-05-19 16:39:58 (1000 KB/s) - ‘robert_frost.txt’ saved [56286/56286]\n",
            "\n"
          ]
        }
      ]
    },
    {
      "cell_type": "code",
      "source": [
        "def add2dict(d,k,v):\n",
        "  if k not in d:\n",
        "    d[k]=[]\n",
        "  d[k].append(v)"
      ],
      "metadata": {
        "id": "1XOSm7BfBWdN"
      },
      "execution_count": null,
      "outputs": []
    },
    {
      "cell_type": "code",
      "source": [
        "for line in open('robert_frost.txt'):\n",
        "  tokens = remove_punc(line.rstrip().lower()).split()\n",
        "  T = len(tokens)\n",
        "  for i in range(T):\n",
        "    t = tokens[i]\n",
        "    if i == 0:\n",
        "      initial[t] = initial.get(t,0.)+1\n",
        "    else:\n",
        "      t1 = tokens[i-1]\n",
        "      if i == T-1:\n",
        "        add2dict(sorder,(t1,t),'END')\n",
        "      if i == 1:\n",
        "        add2dict(forder,t1,t)\n",
        "      else:\n",
        "        t2 = tokens[i-2]\n",
        "        add2dict(sorder,(t2,t1),t)"
      ],
      "metadata": {
        "id": "B6B_qdjwCDIf"
      },
      "execution_count": null,
      "outputs": []
    },
    {
      "cell_type": "code",
      "source": [
        "initial_total = sum(initial.values())\n",
        "for t,c in initial.items():\n",
        "  initial[t] = c/initial_total"
      ],
      "metadata": {
        "id": "5K_DfbSJCjyD"
      },
      "execution_count": null,
      "outputs": []
    },
    {
      "cell_type": "code",
      "source": [
        "def list2pdict(ts):\n",
        "  d={}\n",
        "  n=len(ts)\n",
        "  for t in ts:\n",
        "    d[t] = d.get(t,0.)+1\n",
        "  for t,c in d.items():\n",
        "    d[t]=c/n\n",
        "  return d"
      ],
      "metadata": {
        "id": "ZkWH-cJCFNT-"
      },
      "execution_count": null,
      "outputs": []
    },
    {
      "cell_type": "code",
      "source": [
        "for t1, ts in forder.items():\n",
        "  forder[t1] = list2pdict(ts)"
      ],
      "metadata": {
        "id": "uZ-u4wGcF_eI"
      },
      "execution_count": null,
      "outputs": []
    },
    {
      "cell_type": "code",
      "source": [
        "for k,ts in sorder.items():\n",
        "  sorder[k] = list2pdict(ts)"
      ],
      "metadata": {
        "id": "59Nt04HJGUMm"
      },
      "execution_count": null,
      "outputs": []
    },
    {
      "cell_type": "code",
      "source": [
        "def sample_word(d):\n",
        "  p0 = np.random.random()\n",
        "  cummilative = 0\n",
        "  for t,p in d.items():\n",
        "    cummilative+=p\n",
        "    if p0<cummilative:\n",
        "      return t\n",
        "  assert(False)"
      ],
      "metadata": {
        "id": "194w8AhlGgyl"
      },
      "execution_count": null,
      "outputs": []
    },
    {
      "cell_type": "code",
      "source": [
        "def gen():\n",
        "  for i in range(4):\n",
        "    sent = []\n",
        "    w0 = sample_word(initial)\n",
        "    sent.append(w0)\n",
        "    w1 = sample_word(forder[w0])\n",
        "    sent.append(w1)\n",
        "    while True:\n",
        "      w2 = sample_word(sorder[(w0,w1)])\n",
        "      if w2 == 'END':\n",
        "        break\n",
        "      sent.append(w2)\n",
        "      w0 = w1\n",
        "      w1 = w2\n",
        "    print(' '.join(sent))"
      ],
      "metadata": {
        "id": "CGGwB-sMH6YF"
      },
      "execution_count": null,
      "outputs": []
    },
    {
      "cell_type": "code",
      "source": [
        "gen()"
      ],
      "metadata": {
        "colab": {
          "base_uri": "https://localhost:8080/"
        },
        "id": "iur_nxUPI7_Y",
        "outputId": "3c3d8550-fd5b-453b-ce40-db19c04c914c"
      },
      "execution_count": null,
      "outputs": [
        {
          "output_type": "stream",
          "name": "stdout",
          "text": [
            "you couldnt call it mind we dont complain shes like him there\n",
            "once more we followed this a mile\n",
            "disturbed the slumbering village street\n",
            "she seems to be good the voices give you what you wish to give some sign\n"
          ]
        }
      ]
    },
    {
      "cell_type": "code",
      "source": [],
      "metadata": {
        "id": "j2NAaiQ2I9FL"
      },
      "execution_count": null,
      "outputs": []
    }
  ]
}